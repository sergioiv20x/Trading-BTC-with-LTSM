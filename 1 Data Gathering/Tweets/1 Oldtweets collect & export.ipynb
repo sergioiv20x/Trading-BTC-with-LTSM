{
 "cells": [
  {
   "cell_type": "markdown",
   "metadata": {},
   "source": [
    "# Remember to have correctly instaled the GetOldTweets3 Package: #\n",
    "# https://pypi.org/project/GetOldTweets3/ #"
   ]
  },
  {
   "cell_type": "code",
   "execution_count": null,
   "metadata": {},
   "outputs": [
    {
     "name": "stdout",
     "output_type": "stream",
     "text": [
      "Searching...\n",
      "\n"
     ]
    }
   ],
   "source": [
    "import GetOldTweets3 as got\n",
    "import sys,getopt,datetime,codecs\n",
    "\n",
    "try:\n",
    "    #opts, args = getopt.getopt(argv, \"\", (\"username=\", \"near=\", \"within=\", \"since=\", \"until=\", \"querysearch=\", \"toptweets\", \"maxtweets=\", \"output=\"))\n",
    "    tweetCriteria = got.manager.TweetCriteria().setQuerySearch('bitcoin')\\\n",
    "                                           .setSince(\"2019-09-15\")\\\n",
    "                                           .setUntil(\"2019-09-20\")\\\n",
    "                                           .setLang('en')\n",
    "                                           \n",
    "    outputFileName = \"output_got_20190915.csv\"\n",
    "    outputFile = codecs.open(outputFileName, \"w+\", \"utf-8\")\n",
    "    outputFile.write('username;date;retweets;favorites;text;geo;mentions;hashtags;id;permalink')\n",
    "    print('Searching...\\n')\n",
    "    def receiveBuffer(tweets):\n",
    "        for t in tweets:\n",
    "            outputFile.write(('\\n%s;%s;%d;%d;\"%s\";%s;%s;%s;\"%s\";%s' % (t.username, t.date.strftime(\"%Y-%m-%d %H:%M\"), t.retweets, t.favorites, t.text, t.geo, t.mentions, t.hashtags, t.id, t.permalink)))\n",
    "            outputFile.flush()\n",
    "            #print('More %d saved on file...\\n' % len(tweets))\n",
    "\n",
    "    got.manager.TweetManager.getTweets(tweetCriteria, receiveBuffer)\n",
    "\n",
    "except:\n",
    "    print('error')\n",
    "finally:\n",
    "    outputFile.close()\n",
    "    print('Done. Output file generated \"%s\".' % outputFileName)\n"
   ]
  },
  {
   "cell_type": "code",
   "execution_count": null,
   "metadata": {},
   "outputs": [],
   "source": []
  },
  {
   "cell_type": "code",
   "execution_count": null,
   "metadata": {},
   "outputs": [],
   "source": []
  }
 ],
 "metadata": {
  "kernelspec": {
   "display_name": "Python 3",
   "language": "python",
   "name": "python3"
  },
  "language_info": {
   "codemirror_mode": {
    "name": "ipython",
    "version": 3
   },
   "file_extension": ".py",
   "mimetype": "text/x-python",
   "name": "python",
   "nbconvert_exporter": "python",
   "pygments_lexer": "ipython3",
   "version": "3.7.3"
  }
 },
 "nbformat": 4,
 "nbformat_minor": 2
}
